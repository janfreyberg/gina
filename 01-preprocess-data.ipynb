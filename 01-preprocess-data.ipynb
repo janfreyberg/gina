{
 "cells": [
  {
   "cell_type": "code",
   "execution_count": 1,
   "metadata": {},
   "outputs": [],
   "source": [
    "import numpy as np\n",
    "import mne\n",
    "import pandas as pd\n",
    "from scipy import stats\n",
    "\n",
    "# import from the local files\n",
    "\n",
    "from src.data import datafiles, dataroot\n"
   ]
  },
  {
   "cell_type": "code",
   "execution_count": 5,
   "metadata": {},
   "outputs": [
    {
     "name": "stdout",
     "output_type": "stream",
     "text": [
      "Could not define the number of bytes automatically. Defaulting to 2.\n"
     ]
    },
    {
     "name": "stderr",
     "output_type": "stream",
     "text": [
      "<ipython-input-5-51eb91d43979>:2: RuntimeWarning: Could not define the number of bytes automatically. Defaulting to 2.\n",
      "  for f in datafiles]\n"
     ]
    },
    {
     "name": "stdout",
     "output_type": "stream",
     "text": [
      "The following EEG sensors did not have a position specified in the selected montage: ['HEOG', 'VEOG', 'PO5', 'PO6', 'HEOGL', 'HEOGR', 'HEOG_IL', 'HEOG_IR', 'M1', 'M2', 'Nose', '50Hz']. Their position has been left untouched.\n",
      "Could not define the number of bytes automatically. Defaulting to 2.\n"
     ]
    },
    {
     "name": "stderr",
     "output_type": "stream",
     "text": [
      "<ipython-input-5-51eb91d43979>:2: RuntimeWarning: The following EEG sensors did not have a position specified in the selected montage: ['HEOG', 'VEOG', 'PO5', 'PO6', 'HEOGL', 'HEOGR', 'HEOG_IL', 'HEOG_IR', 'M1', 'M2', 'Nose', '50Hz']. Their position has been left untouched.\n",
      "  for f in datafiles]\n",
      "<ipython-input-5-51eb91d43979>:2: RuntimeWarning: Could not define the number of bytes automatically. Defaulting to 2.\n",
      "  for f in datafiles]\n"
     ]
    },
    {
     "name": "stdout",
     "output_type": "stream",
     "text": [
      "The following EEG sensors did not have a position specified in the selected montage: ['HEOG', 'VEOG', 'PO5', 'PO6', 'HEOGL', 'HEOGR', 'HEOG_IL', 'HEOG_IR', 'M1', 'M2', 'Nose', '50Hz']. Their position has been left untouched.\n",
      "Could not define the number of bytes automatically. Defaulting to 2.\n"
     ]
    },
    {
     "name": "stderr",
     "output_type": "stream",
     "text": [
      "<ipython-input-5-51eb91d43979>:2: RuntimeWarning: The following EEG sensors did not have a position specified in the selected montage: ['HEOG', 'VEOG', 'PO5', 'PO6', 'HEOGL', 'HEOGR', 'HEOG_IL', 'HEOG_IR', 'M1', 'M2', 'Nose', '50Hz']. Their position has been left untouched.\n",
      "  for f in datafiles]\n",
      "<ipython-input-5-51eb91d43979>:2: RuntimeWarning: Could not define the number of bytes automatically. Defaulting to 2.\n",
      "  for f in datafiles]\n"
     ]
    },
    {
     "name": "stdout",
     "output_type": "stream",
     "text": [
      "The following EEG sensors did not have a position specified in the selected montage: ['HEOG', 'VEOG', 'PO5', 'PO6', 'HEOGL', 'HEOGR', 'HEOG_IL', 'HEOG_IR', 'M1', 'M2', 'Nose', '50Hz']. Their position has been left untouched.\n",
      "Could not define the number of bytes automatically. Defaulting to 2.\n"
     ]
    },
    {
     "name": "stderr",
     "output_type": "stream",
     "text": [
      "<ipython-input-5-51eb91d43979>:2: RuntimeWarning: The following EEG sensors did not have a position specified in the selected montage: ['HEOG', 'VEOG', 'PO5', 'PO6', 'HEOGL', 'HEOGR', 'HEOG_IL', 'HEOG_IR', 'M1', 'M2', 'Nose', '50Hz']. Their position has been left untouched.\n",
      "  for f in datafiles]\n",
      "<ipython-input-5-51eb91d43979>:2: RuntimeWarning: Could not define the number of bytes automatically. Defaulting to 2.\n",
      "  for f in datafiles]\n"
     ]
    },
    {
     "name": "stdout",
     "output_type": "stream",
     "text": [
      "The following EEG sensors did not have a position specified in the selected montage: ['HEOG', 'VEOG', 'PO5', 'PO6', 'HEOGL', 'HEOGR', 'HEOG_IL', 'HEOG_IR', 'M1', 'M2', 'Nose', '50Hz']. Their position has been left untouched.\n",
      "Could not define the number of bytes automatically. Defaulting to 2.\n"
     ]
    },
    {
     "name": "stderr",
     "output_type": "stream",
     "text": [
      "<ipython-input-5-51eb91d43979>:2: RuntimeWarning: The following EEG sensors did not have a position specified in the selected montage: ['HEOG', 'VEOG', 'PO5', 'PO6', 'HEOGL', 'HEOGR', 'HEOG_IL', 'HEOG_IR', 'M1', 'M2', 'Nose', '50Hz']. Their position has been left untouched.\n",
      "  for f in datafiles]\n",
      "<ipython-input-5-51eb91d43979>:2: RuntimeWarning: Could not define the number of bytes automatically. Defaulting to 2.\n",
      "  for f in datafiles]\n"
     ]
    },
    {
     "name": "stdout",
     "output_type": "stream",
     "text": [
      "The following EEG sensors did not have a position specified in the selected montage: ['HEOG', 'VEOG', 'PO5', 'PO6', 'HEOGL', 'HEOGR', 'HEOG_IL', 'HEOG_IR', 'M1', 'M2', 'Nose', '50Hz']. Their position has been left untouched.\n"
     ]
    },
    {
     "name": "stderr",
     "output_type": "stream",
     "text": [
      "<ipython-input-5-51eb91d43979>:2: RuntimeWarning: The following EEG sensors did not have a position specified in the selected montage: ['HEOG', 'VEOG', 'PO5', 'PO6', 'HEOGL', 'HEOGR', 'HEOG_IL', 'HEOG_IR', 'M1', 'M2', 'Nose', '50Hz']. Their position has been left untouched.\n",
      "  for f in datafiles]\n"
     ]
    },
    {
     "name": "stdout",
     "output_type": "stream",
     "text": [
      "Could not define the number of bytes automatically. Defaulting to 2.\n"
     ]
    },
    {
     "name": "stderr",
     "output_type": "stream",
     "text": [
      "<ipython-input-5-51eb91d43979>:2: RuntimeWarning: Could not define the number of bytes automatically. Defaulting to 2.\n",
      "  for f in datafiles]\n"
     ]
    },
    {
     "name": "stdout",
     "output_type": "stream",
     "text": [
      "The following EEG sensors did not have a position specified in the selected montage: ['HEOG', 'VEOG', 'PO5', 'PO6', 'HEOGL', 'HEOGR', 'HEOG_IL', 'HEOG_IR', 'M1', 'M2', 'Nose', '50Hz']. Their position has been left untouched.\n",
      "Could not define the number of bytes automatically. Defaulting to 2.\n"
     ]
    },
    {
     "name": "stderr",
     "output_type": "stream",
     "text": [
      "<ipython-input-5-51eb91d43979>:2: RuntimeWarning: The following EEG sensors did not have a position specified in the selected montage: ['HEOG', 'VEOG', 'PO5', 'PO6', 'HEOGL', 'HEOGR', 'HEOG_IL', 'HEOG_IR', 'M1', 'M2', 'Nose', '50Hz']. Their position has been left untouched.\n",
      "  for f in datafiles]\n",
      "<ipython-input-5-51eb91d43979>:2: RuntimeWarning: Could not define the number of bytes automatically. Defaulting to 2.\n",
      "  for f in datafiles]\n"
     ]
    },
    {
     "name": "stdout",
     "output_type": "stream",
     "text": [
      "The following EEG sensors did not have a position specified in the selected montage: ['HEOG', 'VEOG', 'PO5', 'PO6', 'HEOGL', 'HEOGR', 'HEOG_IL', 'HEOG_IR', 'M1', 'M2', 'Nose', '50Hz']. Their position has been left untouched.\n",
      "Could not define the number of bytes automatically. Defaulting to 2.\n"
     ]
    },
    {
     "name": "stderr",
     "output_type": "stream",
     "text": [
      "<ipython-input-5-51eb91d43979>:2: RuntimeWarning: The following EEG sensors did not have a position specified in the selected montage: ['HEOG', 'VEOG', 'PO5', 'PO6', 'HEOGL', 'HEOGR', 'HEOG_IL', 'HEOG_IR', 'M1', 'M2', 'Nose', '50Hz']. Their position has been left untouched.\n",
      "  for f in datafiles]\n",
      "<ipython-input-5-51eb91d43979>:2: RuntimeWarning: Could not define the number of bytes automatically. Defaulting to 2.\n",
      "  for f in datafiles]\n"
     ]
    },
    {
     "name": "stdout",
     "output_type": "stream",
     "text": [
      "The following EEG sensors did not have a position specified in the selected montage: ['HEOG', 'VEOG', 'PO5', 'PO6', 'HEOGL', 'HEOGR', 'HEOG_IL', 'HEOG_IR', 'M1', 'M2', 'Nose', '50Hz']. Their position has been left untouched.\n",
      "Could not define the number of bytes automatically. Defaulting to 2.\n"
     ]
    },
    {
     "name": "stderr",
     "output_type": "stream",
     "text": [
      "<ipython-input-5-51eb91d43979>:2: RuntimeWarning: The following EEG sensors did not have a position specified in the selected montage: ['HEOG', 'VEOG', 'PO5', 'PO6', 'HEOGL', 'HEOGR', 'HEOG_IL', 'HEOG_IR', 'M1', 'M2', 'Nose', '50Hz']. Their position has been left untouched.\n",
      "  for f in datafiles]\n",
      "<ipython-input-5-51eb91d43979>:2: RuntimeWarning: Could not define the number of bytes automatically. Defaulting to 2.\n",
      "  for f in datafiles]\n"
     ]
    },
    {
     "name": "stdout",
     "output_type": "stream",
     "text": [
      "The following EEG sensors did not have a position specified in the selected montage: ['HEOG', 'VEOG', 'PO5', 'PO6', 'HEOGL', 'HEOGR', 'HEOG_IL', 'HEOG_IR', 'M1', 'M2', 'Nose', '50Hz']. Their position has been left untouched.\n",
      "Could not define the number of bytes automatically. Defaulting to 2.\n"
     ]
    },
    {
     "name": "stderr",
     "output_type": "stream",
     "text": [
      "<ipython-input-5-51eb91d43979>:2: RuntimeWarning: The following EEG sensors did not have a position specified in the selected montage: ['HEOG', 'VEOG', 'PO5', 'PO6', 'HEOGL', 'HEOGR', 'HEOG_IL', 'HEOG_IR', 'M1', 'M2', 'Nose', '50Hz']. Their position has been left untouched.\n",
      "  for f in datafiles]\n",
      "<ipython-input-5-51eb91d43979>:2: RuntimeWarning: Could not define the number of bytes automatically. Defaulting to 2.\n",
      "  for f in datafiles]\n"
     ]
    },
    {
     "name": "stdout",
     "output_type": "stream",
     "text": [
      "The following EEG sensors did not have a position specified in the selected montage: ['HEOG', 'VEOG', 'PO5', 'PO6', 'HEOGL', 'HEOGR', 'HEOG_IL', 'HEOG_IR', 'M1', 'M2', 'Nose', '50Hz']. Their position has been left untouched.\n",
      "Could not define the number of bytes automatically. Defaulting to 2.\n"
     ]
    },
    {
     "name": "stderr",
     "output_type": "stream",
     "text": [
      "<ipython-input-5-51eb91d43979>:2: RuntimeWarning: The following EEG sensors did not have a position specified in the selected montage: ['HEOG', 'VEOG', 'PO5', 'PO6', 'HEOGL', 'HEOGR', 'HEOG_IL', 'HEOG_IR', 'M1', 'M2', 'Nose', '50Hz']. Their position has been left untouched.\n",
      "  for f in datafiles]\n",
      "/home/k1513504/.conda/envs/py36/lib/python3.6/site-packages/mne/io/cnt/cnt.py:189: RuntimeWarning: overflow encountered in int_scalars\n",
      "  data_size // (n_samples * n_channels) not in [2, 4]):\n",
      "<ipython-input-5-51eb91d43979>:2: RuntimeWarning: Could not define the number of bytes automatically. Defaulting to 2.\n",
      "  for f in datafiles]\n"
     ]
    },
    {
     "name": "stdout",
     "output_type": "stream",
     "text": [
      "The following EEG sensors did not have a position specified in the selected montage: ['HEOG', 'VEOG', 'PO5', 'PO6', 'HEOGL', 'HEOGR', 'HEOG_IL', 'HEOG_IR', 'M1', 'M2', 'Nose', '50Hz']. Their position has been left untouched.\n",
      "Could not define the number of bytes automatically. Defaulting to 2.\n"
     ]
    },
    {
     "name": "stderr",
     "output_type": "stream",
     "text": [
      "<ipython-input-5-51eb91d43979>:2: RuntimeWarning: The following EEG sensors did not have a position specified in the selected montage: ['HEOG', 'VEOG', 'PO5', 'PO6', 'HEOGL', 'HEOGR', 'HEOG_IL', 'HEOG_IR', 'M1', 'M2', 'Nose', '50Hz']. Their position has been left untouched.\n",
      "  for f in datafiles]\n",
      "<ipython-input-5-51eb91d43979>:2: RuntimeWarning: Could not define the number of bytes automatically. Defaulting to 2.\n",
      "  for f in datafiles]\n"
     ]
    },
    {
     "name": "stdout",
     "output_type": "stream",
     "text": [
      "The following EEG sensors did not have a position specified in the selected montage: ['HEOG', 'VEOG', 'PO5', 'PO6', 'HEOGL', 'HEOGR', 'HEOG_IL', 'HEOG_IR', 'M1', 'M2', 'Nose', '50Hz']. Their position has been left untouched.\n",
      "Could not define the number of bytes automatically. Defaulting to 2.\n"
     ]
    },
    {
     "name": "stderr",
     "output_type": "stream",
     "text": [
      "<ipython-input-5-51eb91d43979>:2: RuntimeWarning: The following EEG sensors did not have a position specified in the selected montage: ['HEOG', 'VEOG', 'PO5', 'PO6', 'HEOGL', 'HEOGR', 'HEOG_IL', 'HEOG_IR', 'M1', 'M2', 'Nose', '50Hz']. Their position has been left untouched.\n",
      "  for f in datafiles]\n",
      "<ipython-input-5-51eb91d43979>:2: RuntimeWarning: Could not define the number of bytes automatically. Defaulting to 2.\n",
      "  for f in datafiles]\n"
     ]
    },
    {
     "name": "stdout",
     "output_type": "stream",
     "text": [
      "The following EEG sensors did not have a position specified in the selected montage: ['HEOG', 'VEOG', 'PO5', 'PO6', 'HEOGL', 'HEOGR', 'HEOG_IL', 'HEOG_IR', 'M1', 'M2', 'Nose', '50Hz']. Their position has been left untouched.\n",
      "Could not define the number of bytes automatically. Defaulting to 2.\n"
     ]
    },
    {
     "name": "stderr",
     "output_type": "stream",
     "text": [
      "<ipython-input-5-51eb91d43979>:2: RuntimeWarning: The following EEG sensors did not have a position specified in the selected montage: ['HEOG', 'VEOG', 'PO5', 'PO6', 'HEOGL', 'HEOGR', 'HEOG_IL', 'HEOG_IR', 'M1', 'M2', 'Nose', '50Hz']. Their position has been left untouched.\n",
      "  for f in datafiles]\n",
      "<ipython-input-5-51eb91d43979>:2: RuntimeWarning: Could not define the number of bytes automatically. Defaulting to 2.\n",
      "  for f in datafiles]\n"
     ]
    },
    {
     "name": "stdout",
     "output_type": "stream",
     "text": [
      "The following EEG sensors did not have a position specified in the selected montage: ['HEOG', 'VEOG', 'PO5', 'PO6', 'HEOGL', 'HEOGR', 'HEOG_IL', 'HEOG_IR', 'M1', 'M2', 'Nose', '50Hz']. Their position has been left untouched.\n",
      "Could not define the number of bytes automatically. Defaulting to 2.\n"
     ]
    },
    {
     "name": "stderr",
     "output_type": "stream",
     "text": [
      "<ipython-input-5-51eb91d43979>:2: RuntimeWarning: The following EEG sensors did not have a position specified in the selected montage: ['HEOG', 'VEOG', 'PO5', 'PO6', 'HEOGL', 'HEOGR', 'HEOG_IL', 'HEOG_IR', 'M1', 'M2', 'Nose', '50Hz']. Their position has been left untouched.\n",
      "  for f in datafiles]\n",
      "<ipython-input-5-51eb91d43979>:2: RuntimeWarning: Could not define the number of bytes automatically. Defaulting to 2.\n",
      "  for f in datafiles]\n"
     ]
    },
    {
     "name": "stdout",
     "output_type": "stream",
     "text": [
      "The following EEG sensors did not have a position specified in the selected montage: ['HEOG', 'VEOG', 'PO5', 'PO6', 'HEOGL', 'HEOGR', 'HEOG_IL', 'HEOG_IR', 'M1', 'M2', 'Nose', '50Hz']. Their position has been left untouched.\n",
      "Could not define the number of bytes automatically. Defaulting to 2.\n"
     ]
    },
    {
     "name": "stderr",
     "output_type": "stream",
     "text": [
      "<ipython-input-5-51eb91d43979>:2: RuntimeWarning: The following EEG sensors did not have a position specified in the selected montage: ['HEOG', 'VEOG', 'PO5', 'PO6', 'HEOGL', 'HEOGR', 'HEOG_IL', 'HEOG_IR', 'M1', 'M2', 'Nose', '50Hz']. Their position has been left untouched.\n",
      "  for f in datafiles]\n",
      "<ipython-input-5-51eb91d43979>:2: RuntimeWarning: Could not define the number of bytes automatically. Defaulting to 2.\n",
      "  for f in datafiles]\n"
     ]
    },
    {
     "name": "stdout",
     "output_type": "stream",
     "text": [
      "The following EEG sensors did not have a position specified in the selected montage: ['HEOG', 'VEOG', 'PO5', 'PO6', 'HEOGL', 'HEOGR', 'HEOG_IL', 'HEOG_IR', 'M1', 'M2', 'Nose', '50Hz']. Their position has been left untouched.\n",
      "Could not define the number of bytes automatically. Defaulting to 2.\n"
     ]
    },
    {
     "name": "stderr",
     "output_type": "stream",
     "text": [
      "<ipython-input-5-51eb91d43979>:2: RuntimeWarning: The following EEG sensors did not have a position specified in the selected montage: ['HEOG', 'VEOG', 'PO5', 'PO6', 'HEOGL', 'HEOGR', 'HEOG_IL', 'HEOG_IR', 'M1', 'M2', 'Nose', '50Hz']. Their position has been left untouched.\n",
      "  for f in datafiles]\n",
      "<ipython-input-5-51eb91d43979>:2: RuntimeWarning: Could not define the number of bytes automatically. Defaulting to 2.\n",
      "  for f in datafiles]\n"
     ]
    },
    {
     "name": "stdout",
     "output_type": "stream",
     "text": [
      "The following EEG sensors did not have a position specified in the selected montage: ['HEOG', 'VEOG', 'PO5', 'PO6', 'HEOGL', 'HEOGR', 'HEOG_IL', 'HEOG_IR', 'M1', 'M2', 'LAT', '50Hz']. Their position has been left untouched.\n",
      "Could not define the number of bytes automatically. Defaulting to 2.\n"
     ]
    },
    {
     "name": "stderr",
     "output_type": "stream",
     "text": [
      "<ipython-input-5-51eb91d43979>:2: RuntimeWarning: The following EEG sensors did not have a position specified in the selected montage: ['HEOG', 'VEOG', 'PO5', 'PO6', 'HEOGL', 'HEOGR', 'HEOG_IL', 'HEOG_IR', 'M1', 'M2', 'LAT', '50Hz']. Their position has been left untouched.\n",
      "  for f in datafiles]\n",
      "<ipython-input-5-51eb91d43979>:2: RuntimeWarning: Could not define the number of bytes automatically. Defaulting to 2.\n",
      "  for f in datafiles]\n"
     ]
    },
    {
     "name": "stdout",
     "output_type": "stream",
     "text": [
      "The following EEG sensors did not have a position specified in the selected montage: ['HEOG', 'VEOG', 'PO5', 'PO6', 'HEOGL', 'HEOGR', 'HEOG_IL', 'HEOG_IR', 'M1', 'M2', 'Nose', '50Hz']. Their position has been left untouched.\n",
      "Could not define the number of bytes automatically. Defaulting to 2.\n"
     ]
    },
    {
     "name": "stderr",
     "output_type": "stream",
     "text": [
      "<ipython-input-5-51eb91d43979>:2: RuntimeWarning: The following EEG sensors did not have a position specified in the selected montage: ['HEOG', 'VEOG', 'PO5', 'PO6', 'HEOGL', 'HEOGR', 'HEOG_IL', 'HEOG_IR', 'M1', 'M2', 'Nose', '50Hz']. Their position has been left untouched.\n",
      "  for f in datafiles]\n",
      "<ipython-input-5-51eb91d43979>:2: RuntimeWarning: Could not define the number of bytes automatically. Defaulting to 2.\n",
      "  for f in datafiles]\n"
     ]
    },
    {
     "name": "stdout",
     "output_type": "stream",
     "text": [
      "The following EEG sensors did not have a position specified in the selected montage: ['HEOG', 'VEOG', 'PO5', 'PO6', 'HEOGL', 'HEOGR', 'HEOG_IL', 'HEOG_IR', 'M1', 'M2', 'Nose', '50Hz']. Their position has been left untouched.\n",
      "Could not define the number of bytes automatically. Defaulting to 2.\n"
     ]
    },
    {
     "name": "stderr",
     "output_type": "stream",
     "text": [
      "<ipython-input-5-51eb91d43979>:2: RuntimeWarning: The following EEG sensors did not have a position specified in the selected montage: ['HEOG', 'VEOG', 'PO5', 'PO6', 'HEOGL', 'HEOGR', 'HEOG_IL', 'HEOG_IR', 'M1', 'M2', 'Nose', '50Hz']. Their position has been left untouched.\n",
      "  for f in datafiles]\n",
      "<ipython-input-5-51eb91d43979>:2: RuntimeWarning: Could not define the number of bytes automatically. Defaulting to 2.\n",
      "  for f in datafiles]\n"
     ]
    },
    {
     "name": "stdout",
     "output_type": "stream",
     "text": [
      "The following EEG sensors did not have a position specified in the selected montage: ['HEOG', 'VEOG', 'PO5', 'PO6', 'HEOGL', 'HEOGR', 'HEOG_IL', 'HEOG_IR', 'M1', 'M2', 'Nose', '50Hz']. Their position has been left untouched.\n",
      "Could not define the number of bytes automatically. Defaulting to 2.\n"
     ]
    },
    {
     "name": "stderr",
     "output_type": "stream",
     "text": [
      "<ipython-input-5-51eb91d43979>:2: RuntimeWarning: The following EEG sensors did not have a position specified in the selected montage: ['HEOG', 'VEOG', 'PO5', 'PO6', 'HEOGL', 'HEOGR', 'HEOG_IL', 'HEOG_IR', 'M1', 'M2', 'Nose', '50Hz']. Their position has been left untouched.\n",
      "  for f in datafiles]\n",
      "<ipython-input-5-51eb91d43979>:2: RuntimeWarning: Could not define the number of bytes automatically. Defaulting to 2.\n",
      "  for f in datafiles]\n"
     ]
    },
    {
     "name": "stdout",
     "output_type": "stream",
     "text": [
      "The following EEG sensors did not have a position specified in the selected montage: ['HEOG', 'VEOG', 'PO5', 'PO6', 'HEOGL', 'HEOGR', 'HEOG_IL', 'HEOG_IR', 'M1', 'M2', 'Nose', '50Hz']. Their position has been left untouched.\n",
      "Could not define the number of bytes automatically. Defaulting to 2.\n"
     ]
    },
    {
     "name": "stderr",
     "output_type": "stream",
     "text": [
      "<ipython-input-5-51eb91d43979>:2: RuntimeWarning: The following EEG sensors did not have a position specified in the selected montage: ['HEOG', 'VEOG', 'PO5', 'PO6', 'HEOGL', 'HEOGR', 'HEOG_IL', 'HEOG_IR', 'M1', 'M2', 'Nose', '50Hz']. Their position has been left untouched.\n",
      "  for f in datafiles]\n",
      "<ipython-input-5-51eb91d43979>:2: RuntimeWarning: Could not define the number of bytes automatically. Defaulting to 2.\n",
      "  for f in datafiles]\n"
     ]
    },
    {
     "name": "stdout",
     "output_type": "stream",
     "text": [
      "The following EEG sensors did not have a position specified in the selected montage: ['HEOG', 'VEOG', 'PO5', 'PO6', 'HEOGL', 'HEOGR', 'HEOG_IL', 'HEOG_IR', 'M1', 'M2', 'Nose', '50Hz']. Their position has been left untouched.\n",
      "Could not define the number of bytes automatically. Defaulting to 2.\n"
     ]
    },
    {
     "name": "stderr",
     "output_type": "stream",
     "text": [
      "<ipython-input-5-51eb91d43979>:2: RuntimeWarning: The following EEG sensors did not have a position specified in the selected montage: ['HEOG', 'VEOG', 'PO5', 'PO6', 'HEOGL', 'HEOGR', 'HEOG_IL', 'HEOG_IR', 'M1', 'M2', 'Nose', '50Hz']. Their position has been left untouched.\n",
      "  for f in datafiles]\n",
      "<ipython-input-5-51eb91d43979>:2: RuntimeWarning: Could not define the number of bytes automatically. Defaulting to 2.\n",
      "  for f in datafiles]\n"
     ]
    },
    {
     "name": "stdout",
     "output_type": "stream",
     "text": [
      "The following EEG sensors did not have a position specified in the selected montage: ['HEOG', 'VEOG', 'PO5', 'PO6', 'HEOGL', 'HEOGR', 'HEOG_IL', 'HEOG_IR', 'M1', 'M2', 'Nose', '50Hz']. Their position has been left untouched.\n",
      "Could not define the number of bytes automatically. Defaulting to 2.\n"
     ]
    },
    {
     "name": "stderr",
     "output_type": "stream",
     "text": [
      "<ipython-input-5-51eb91d43979>:2: RuntimeWarning: The following EEG sensors did not have a position specified in the selected montage: ['HEOG', 'VEOG', 'PO5', 'PO6', 'HEOGL', 'HEOGR', 'HEOG_IL', 'HEOG_IR', 'M1', 'M2', 'Nose', '50Hz']. Their position has been left untouched.\n",
      "  for f in datafiles]\n",
      "<ipython-input-5-51eb91d43979>:2: RuntimeWarning: Could not define the number of bytes automatically. Defaulting to 2.\n",
      "  for f in datafiles]\n"
     ]
    },
    {
     "name": "stdout",
     "output_type": "stream",
     "text": [
      "The following EEG sensors did not have a position specified in the selected montage: ['HEOG', 'VEOG', 'PO5', 'PO6', 'HEOGL', 'HEOGR', 'HEOG_IL', 'HEOG_IR', 'M1', 'M2', 'Nose', '50Hz']. Their position has been left untouched.\n",
      "Could not define the number of bytes automatically. Defaulting to 2.\n"
     ]
    },
    {
     "name": "stderr",
     "output_type": "stream",
     "text": [
      "<ipython-input-5-51eb91d43979>:2: RuntimeWarning: The following EEG sensors did not have a position specified in the selected montage: ['HEOG', 'VEOG', 'PO5', 'PO6', 'HEOGL', 'HEOGR', 'HEOG_IL', 'HEOG_IR', 'M1', 'M2', 'Nose', '50Hz']. Their position has been left untouched.\n",
      "  for f in datafiles]\n",
      "<ipython-input-5-51eb91d43979>:2: RuntimeWarning: Could not define the number of bytes automatically. Defaulting to 2.\n",
      "  for f in datafiles]\n"
     ]
    },
    {
     "name": "stdout",
     "output_type": "stream",
     "text": [
      "The following EEG sensors did not have a position specified in the selected montage: ['HEOG', 'VEOG', 'PO5', 'PO6', 'HEOGL', 'HEOGR', 'HEOG_IL', 'HEOG_IR', 'M1', 'M2', 'Nose', '50Hz']. Their position has been left untouched.\n",
      "Could not define the number of bytes automatically. Defaulting to 2.\n"
     ]
    },
    {
     "name": "stderr",
     "output_type": "stream",
     "text": [
      "<ipython-input-5-51eb91d43979>:2: RuntimeWarning: The following EEG sensors did not have a position specified in the selected montage: ['HEOG', 'VEOG', 'PO5', 'PO6', 'HEOGL', 'HEOGR', 'HEOG_IL', 'HEOG_IR', 'M1', 'M2', 'Nose', '50Hz']. Their position has been left untouched.\n",
      "  for f in datafiles]\n",
      "<ipython-input-5-51eb91d43979>:2: RuntimeWarning: Could not define the number of bytes automatically. Defaulting to 2.\n",
      "  for f in datafiles]\n"
     ]
    },
    {
     "name": "stdout",
     "output_type": "stream",
     "text": [
      "The following EEG sensors did not have a position specified in the selected montage: ['HEOG', 'VEOG', 'PO5', 'PO6', 'HEOGL', 'HEOGR', 'HEOG_IL', 'HEOG_IR', 'M1', 'M2', 'Nose', '50Hz']. Their position has been left untouched.\n",
      "Could not define the number of bytes automatically. Defaulting to 2.\n"
     ]
    },
    {
     "name": "stderr",
     "output_type": "stream",
     "text": [
      "<ipython-input-5-51eb91d43979>:2: RuntimeWarning: The following EEG sensors did not have a position specified in the selected montage: ['HEOG', 'VEOG', 'PO5', 'PO6', 'HEOGL', 'HEOGR', 'HEOG_IL', 'HEOG_IR', 'M1', 'M2', 'Nose', '50Hz']. Their position has been left untouched.\n",
      "  for f in datafiles]\n",
      "<ipython-input-5-51eb91d43979>:2: RuntimeWarning: Could not define the number of bytes automatically. Defaulting to 2.\n",
      "  for f in datafiles]\n"
     ]
    },
    {
     "name": "stdout",
     "output_type": "stream",
     "text": [
      "The following EEG sensors did not have a position specified in the selected montage: ['HEOG', 'VEOG', 'PO5', 'PO6', 'HEOGL', 'HEOGR', 'HEOG_IL', 'HEOG_IR', 'M1', 'M2', 'Nose', '50Hz']. Their position has been left untouched.\n",
      "Could not define the number of bytes automatically. Defaulting to 2.\n"
     ]
    },
    {
     "name": "stderr",
     "output_type": "stream",
     "text": [
      "<ipython-input-5-51eb91d43979>:2: RuntimeWarning: The following EEG sensors did not have a position specified in the selected montage: ['HEOG', 'VEOG', 'PO5', 'PO6', 'HEOGL', 'HEOGR', 'HEOG_IL', 'HEOG_IR', 'M1', 'M2', 'Nose', '50Hz']. Their position has been left untouched.\n",
      "  for f in datafiles]\n",
      "<ipython-input-5-51eb91d43979>:2: RuntimeWarning: Could not define the number of bytes automatically. Defaulting to 2.\n",
      "  for f in datafiles]\n"
     ]
    },
    {
     "name": "stdout",
     "output_type": "stream",
     "text": [
      "The following EEG sensors did not have a position specified in the selected montage: ['HEOG', 'VEOG', 'PO5', 'PO6', 'HEOGL', 'HEOGR', 'HEOG_IL', 'HEOG_IR', 'M1', 'M2', 'Nose', '50Hz']. Their position has been left untouched.\n",
      "Could not define the number of bytes automatically. Defaulting to 2.\n"
     ]
    },
    {
     "name": "stderr",
     "output_type": "stream",
     "text": [
      "<ipython-input-5-51eb91d43979>:2: RuntimeWarning: The following EEG sensors did not have a position specified in the selected montage: ['HEOG', 'VEOG', 'PO5', 'PO6', 'HEOGL', 'HEOGR', 'HEOG_IL', 'HEOG_IR', 'M1', 'M2', 'Nose', '50Hz']. Their position has been left untouched.\n",
      "  for f in datafiles]\n",
      "<ipython-input-5-51eb91d43979>:2: RuntimeWarning: Could not define the number of bytes automatically. Defaulting to 2.\n",
      "  for f in datafiles]\n"
     ]
    },
    {
     "name": "stdout",
     "output_type": "stream",
     "text": [
      "The following EEG sensors did not have a position specified in the selected montage: ['HEOG', 'VEOG', 'PO5', 'PO6', 'HEOGL', 'HEOGR', 'HEOG_IL', 'HEOG_IR', 'M1', 'M2', 'Nose', '50Hz']. Their position has been left untouched.\n",
      "Could not define the number of bytes automatically. Defaulting to 2.\n"
     ]
    },
    {
     "name": "stderr",
     "output_type": "stream",
     "text": [
      "<ipython-input-5-51eb91d43979>:2: RuntimeWarning: The following EEG sensors did not have a position specified in the selected montage: ['HEOG', 'VEOG', 'PO5', 'PO6', 'HEOGL', 'HEOGR', 'HEOG_IL', 'HEOG_IR', 'M1', 'M2', 'Nose', '50Hz']. Their position has been left untouched.\n",
      "  for f in datafiles]\n",
      "<ipython-input-5-51eb91d43979>:2: RuntimeWarning: Could not define the number of bytes automatically. Defaulting to 2.\n",
      "  for f in datafiles]\n"
     ]
    },
    {
     "name": "stdout",
     "output_type": "stream",
     "text": [
      "The following EEG sensors did not have a position specified in the selected montage: ['HEOG', 'VEOG', 'PO5', 'PO6', 'HEOGL', 'HEOGR', 'HEOG_IL', 'HEOG_IR', 'M1', 'M2', 'Nose', '50Hz']. Their position has been left untouched.\n",
      "Could not define the number of bytes automatically. Defaulting to 2.\n"
     ]
    },
    {
     "name": "stderr",
     "output_type": "stream",
     "text": [
      "<ipython-input-5-51eb91d43979>:2: RuntimeWarning: The following EEG sensors did not have a position specified in the selected montage: ['HEOG', 'VEOG', 'PO5', 'PO6', 'HEOGL', 'HEOGR', 'HEOG_IL', 'HEOG_IR', 'M1', 'M2', 'Nose', '50Hz']. Their position has been left untouched.\n",
      "  for f in datafiles]\n",
      "<ipython-input-5-51eb91d43979>:2: RuntimeWarning: Could not define the number of bytes automatically. Defaulting to 2.\n",
      "  for f in datafiles]\n"
     ]
    },
    {
     "name": "stdout",
     "output_type": "stream",
     "text": [
      "The following EEG sensors did not have a position specified in the selected montage: ['HEOG', 'VEOG', 'PO5', 'PO6', 'HEOGL', 'HEOGR', 'HEOG_IL', 'HEOG_IR', 'M1', 'M2', 'Nose', '50Hz']. Their position has been left untouched.\n",
      "Could not define the number of bytes automatically. Defaulting to 2.\n"
     ]
    },
    {
     "name": "stderr",
     "output_type": "stream",
     "text": [
      "<ipython-input-5-51eb91d43979>:2: RuntimeWarning: The following EEG sensors did not have a position specified in the selected montage: ['HEOG', 'VEOG', 'PO5', 'PO6', 'HEOGL', 'HEOGR', 'HEOG_IL', 'HEOG_IR', 'M1', 'M2', 'Nose', '50Hz']. Their position has been left untouched.\n",
      "  for f in datafiles]\n",
      "<ipython-input-5-51eb91d43979>:2: RuntimeWarning: Could not define the number of bytes automatically. Defaulting to 2.\n",
      "  for f in datafiles]\n"
     ]
    },
    {
     "name": "stdout",
     "output_type": "stream",
     "text": [
      "The following EEG sensors did not have a position specified in the selected montage: ['HEOG', 'VEOG', 'PO5', 'PO6', 'HEOGL', 'HEOGR', 'HEOG_IL', 'HEOG_IR', 'M1', 'M2', 'Nose', '50Hz']. Their position has been left untouched.\n",
      "Could not define the number of bytes automatically. Defaulting to 2.\n"
     ]
    },
    {
     "name": "stderr",
     "output_type": "stream",
     "text": [
      "<ipython-input-5-51eb91d43979>:2: RuntimeWarning: The following EEG sensors did not have a position specified in the selected montage: ['HEOG', 'VEOG', 'PO5', 'PO6', 'HEOGL', 'HEOGR', 'HEOG_IL', 'HEOG_IR', 'M1', 'M2', 'Nose', '50Hz']. Their position has been left untouched.\n",
      "  for f in datafiles]\n",
      "<ipython-input-5-51eb91d43979>:2: RuntimeWarning: Could not define the number of bytes automatically. Defaulting to 2.\n",
      "  for f in datafiles]\n"
     ]
    },
    {
     "name": "stdout",
     "output_type": "stream",
     "text": [
      "The following EEG sensors did not have a position specified in the selected montage: ['HEOG', 'VEOG', 'PO5', 'PO6', 'HEOGL', 'HEOGR', 'HEOG_IL', 'HEOG_IR', 'M1', 'M2', 'Nose', '50Hz']. Their position has been left untouched.\n",
      "Could not define the number of bytes automatically. Defaulting to 2.\n"
     ]
    },
    {
     "name": "stderr",
     "output_type": "stream",
     "text": [
      "<ipython-input-5-51eb91d43979>:2: RuntimeWarning: The following EEG sensors did not have a position specified in the selected montage: ['HEOG', 'VEOG', 'PO5', 'PO6', 'HEOGL', 'HEOGR', 'HEOG_IL', 'HEOG_IR', 'M1', 'M2', 'Nose', '50Hz']. Their position has been left untouched.\n",
      "  for f in datafiles]\n",
      "<ipython-input-5-51eb91d43979>:2: RuntimeWarning: Could not define the number of bytes automatically. Defaulting to 2.\n",
      "  for f in datafiles]\n"
     ]
    },
    {
     "name": "stdout",
     "output_type": "stream",
     "text": [
      "The following EEG sensors did not have a position specified in the selected montage: ['HEOG', 'VEOG', 'PO5', 'PO6', 'HEOGL', 'HEOGR', 'HEOG_IL', 'HEOG_IR', 'M1', 'M2', 'Nose', '50Hz']. Their position has been left untouched.\n",
      "Could not define the number of bytes automatically. Defaulting to 2.\n"
     ]
    },
    {
     "name": "stderr",
     "output_type": "stream",
     "text": [
      "<ipython-input-5-51eb91d43979>:2: RuntimeWarning: The following EEG sensors did not have a position specified in the selected montage: ['HEOG', 'VEOG', 'PO5', 'PO6', 'HEOGL', 'HEOGR', 'HEOG_IL', 'HEOG_IR', 'M1', 'M2', 'Nose', '50Hz']. Their position has been left untouched.\n",
      "  for f in datafiles]\n",
      "<ipython-input-5-51eb91d43979>:2: RuntimeWarning: Could not define the number of bytes automatically. Defaulting to 2.\n",
      "  for f in datafiles]\n"
     ]
    },
    {
     "name": "stdout",
     "output_type": "stream",
     "text": [
      "The following EEG sensors did not have a position specified in the selected montage: ['HEOG', 'VEOG', 'PO5', 'PO6', 'HEOGL', 'HEOGR', 'HEOG_IL', 'HEOG_IR', 'M1', 'M2', 'Nose', '50Hz']. Their position has been left untouched.\n",
      "Could not define the number of bytes automatically. Defaulting to 2.\n"
     ]
    },
    {
     "name": "stderr",
     "output_type": "stream",
     "text": [
      "<ipython-input-5-51eb91d43979>:2: RuntimeWarning: The following EEG sensors did not have a position specified in the selected montage: ['HEOG', 'VEOG', 'PO5', 'PO6', 'HEOGL', 'HEOGR', 'HEOG_IL', 'HEOG_IR', 'M1', 'M2', 'Nose', '50Hz']. Their position has been left untouched.\n",
      "  for f in datafiles]\n",
      "<ipython-input-5-51eb91d43979>:2: RuntimeWarning: Could not define the number of bytes automatically. Defaulting to 2.\n",
      "  for f in datafiles]\n"
     ]
    },
    {
     "name": "stdout",
     "output_type": "stream",
     "text": [
      "The following EEG sensors did not have a position specified in the selected montage: ['HEOG', 'VEOG', 'PO5', 'PO6', 'HEOGL', 'HEOGR', 'HEOG_IL', 'HEOG_IR', 'M1', 'M2', 'Nose', '50Hz']. Their position has been left untouched.\n",
      "Could not define the number of bytes automatically. Defaulting to 2.\n"
     ]
    },
    {
     "name": "stderr",
     "output_type": "stream",
     "text": [
      "<ipython-input-5-51eb91d43979>:2: RuntimeWarning: The following EEG sensors did not have a position specified in the selected montage: ['HEOG', 'VEOG', 'PO5', 'PO6', 'HEOGL', 'HEOGR', 'HEOG_IL', 'HEOG_IR', 'M1', 'M2', 'Nose', '50Hz']. Their position has been left untouched.\n",
      "  for f in datafiles]\n",
      "<ipython-input-5-51eb91d43979>:2: RuntimeWarning: Could not define the number of bytes automatically. Defaulting to 2.\n",
      "  for f in datafiles]\n"
     ]
    },
    {
     "name": "stdout",
     "output_type": "stream",
     "text": [
      "The following EEG sensors did not have a position specified in the selected montage: ['HEOG', 'VEOG', 'PO5', 'PO6', 'HEOGL', 'HEOGR', 'HEOG_IL', 'HEOG_IR', 'M1', 'M2', 'Nose', '50Hz']. Their position has been left untouched.\n",
      "Could not define the number of bytes automatically. Defaulting to 2.\n"
     ]
    },
    {
     "name": "stderr",
     "output_type": "stream",
     "text": [
      "<ipython-input-5-51eb91d43979>:2: RuntimeWarning: The following EEG sensors did not have a position specified in the selected montage: ['HEOG', 'VEOG', 'PO5', 'PO6', 'HEOGL', 'HEOGR', 'HEOG_IL', 'HEOG_IR', 'M1', 'M2', 'Nose', '50Hz']. Their position has been left untouched.\n",
      "  for f in datafiles]\n",
      "<ipython-input-5-51eb91d43979>:2: RuntimeWarning: Could not define the number of bytes automatically. Defaulting to 2.\n",
      "  for f in datafiles]\n"
     ]
    },
    {
     "name": "stdout",
     "output_type": "stream",
     "text": [
      "The following EEG sensors did not have a position specified in the selected montage: ['HEOG', 'VEOG', 'PO5', 'PO6', 'HEOGL', 'HEOGR', 'HEOG_IL', 'HEOG_IR', 'M1', 'M2', 'Nose', '50Hz']. Their position has been left untouched.\n",
      "Could not define the number of bytes automatically. Defaulting to 2.\n"
     ]
    },
    {
     "name": "stderr",
     "output_type": "stream",
     "text": [
      "<ipython-input-5-51eb91d43979>:2: RuntimeWarning: The following EEG sensors did not have a position specified in the selected montage: ['HEOG', 'VEOG', 'PO5', 'PO6', 'HEOGL', 'HEOGR', 'HEOG_IL', 'HEOG_IR', 'M1', 'M2', 'Nose', '50Hz']. Their position has been left untouched.\n",
      "  for f in datafiles]\n",
      "<ipython-input-5-51eb91d43979>:2: RuntimeWarning: Could not define the number of bytes automatically. Defaulting to 2.\n",
      "  for f in datafiles]\n"
     ]
    },
    {
     "name": "stdout",
     "output_type": "stream",
     "text": [
      "The following EEG sensors did not have a position specified in the selected montage: ['HEOG', 'VEOG', 'PO5', 'PO6', 'HEOGL', 'HEOGR', 'HEOG_IL', 'HEOG_IR', 'M1', 'M2', 'Nose', '50Hz']. Their position has been left untouched.\n",
      "Could not define the number of bytes automatically. Defaulting to 2.\n"
     ]
    },
    {
     "name": "stderr",
     "output_type": "stream",
     "text": [
      "<ipython-input-5-51eb91d43979>:2: RuntimeWarning: The following EEG sensors did not have a position specified in the selected montage: ['HEOG', 'VEOG', 'PO5', 'PO6', 'HEOGL', 'HEOGR', 'HEOG_IL', 'HEOG_IR', 'M1', 'M2', 'Nose', '50Hz']. Their position has been left untouched.\n",
      "  for f in datafiles]\n",
      "<ipython-input-5-51eb91d43979>:2: RuntimeWarning: Could not define the number of bytes automatically. Defaulting to 2.\n",
      "  for f in datafiles]\n"
     ]
    },
    {
     "name": "stdout",
     "output_type": "stream",
     "text": [
      "The following EEG sensors did not have a position specified in the selected montage: ['HEOG', 'VEOG', 'PO5', 'PO6', 'HEOGL', 'HEOGR', 'HEOG_IL', 'HEOG_IR', 'M1', 'M2', 'Nose', '50Hz']. Their position has been left untouched.\n"
     ]
    },
    {
     "name": "stderr",
     "output_type": "stream",
     "text": [
      "<ipython-input-5-51eb91d43979>:2: RuntimeWarning: The following EEG sensors did not have a position specified in the selected montage: ['HEOG', 'VEOG', 'PO5', 'PO6', 'HEOGL', 'HEOGR', 'HEOG_IL', 'HEOG_IR', 'M1', 'M2', 'Nose', '50Hz']. Their position has been left untouched.\n",
      "  for f in datafiles]\n"
     ]
    }
   ],
   "source": [
    "raws = [mne.io.read_raw_cnt(f, montage='biosemi64', date_format='dd/mm/yy',\n",
    "                            eog=['HEOGL', 'HEOGR', 'HEOG_IL', 'HEOG_IR'],\n",
    "                            emg=['M1', 'M2'], misc=['Nose', '50Hz'])\n",
    "        for f in datafiles]\n",
    "    "
   ]
  },
  {
   "cell_type": "code",
   "execution_count": 6,
   "metadata": {},
   "outputs": [
    {
     "data": {
      "text/plain": [
       "<Info | 18 non-empty fields\n",
       "    bads : 'list | HEOGL, HEOGR, HEOG_IL, HEOG_IR\n",
       "    buffer_size_sec : 'float | 10.0\n",
       "    ch_names : 'list | O2, O1, OZ, PZ, P4, CP4, P8, C4, TP8, ...\n",
       "    chs : 'list | 73 items (EEG: 72, STIM: 1)\n",
       "    comps : 'list | 0 items\n",
       "    custom_ref_applied : 'bool | False\n",
       "    description : 'str | 0 items\n",
       "    dev_head_t : 'mne.transforms.Transform | 3 items\n",
       "    events : 'list | 0 items\n",
       "    highpass : 'float | 0.0 Hz\n",
       "    hpi_meas : 'list | 0 items\n",
       "    hpi_results : 'list | 0 items\n",
       "    lowpass : 'float | 2500.0 Hz\n",
       "    meas_date : 'numpy.ndarray | 2012-11-09 14:56:27\n",
       "    nchan : 'int | 73\n",
       "    projs : 'list | 0 items\n",
       "    sfreq : 'float | 5000.0 Hz\n",
       "    subject_info : 'dict | 5 items\n",
       "    acq_pars : 'NoneType\n",
       "    acq_stim : 'NoneType\n",
       "    ctf_head_t : 'NoneType\n",
       "    dev_ctf_t : 'NoneType\n",
       "    dig : 'NoneType\n",
       "    experimenter : 'NoneType\n",
       "    file_id : 'NoneType\n",
       "    hpi_subsystem : 'NoneType\n",
       "    kit_system_id : 'NoneType\n",
       "    line_freq : 'NoneType\n",
       "    meas_id : 'NoneType\n",
       "    proj_id : 'NoneType\n",
       "    proj_name : 'NoneType\n",
       "    xplotter_layout : 'NoneType\n",
       ">"
      ]
     },
     "execution_count": 6,
     "metadata": {},
     "output_type": "execute_result"
    }
   ],
   "source": [
    "raws[0].info"
   ]
  }
 ],
 "metadata": {
  "kernelspec": {
   "display_name": "Python 3",
   "language": "python",
   "name": "python3"
  },
  "language_info": {
   "codemirror_mode": {
    "name": "ipython",
    "version": 3
   },
   "file_extension": ".py",
   "mimetype": "text/x-python",
   "name": "python",
   "nbconvert_exporter": "python",
   "pygments_lexer": "ipython3",
   "version": "3.6.0"
  }
 },
 "nbformat": 4,
 "nbformat_minor": 2
}
